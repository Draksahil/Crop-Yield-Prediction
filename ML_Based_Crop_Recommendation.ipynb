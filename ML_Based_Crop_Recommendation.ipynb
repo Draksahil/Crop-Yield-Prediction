{
  "nbformat": 4,
  "nbformat_minor": 0,
  "metadata": {
    "colab": {
      "provenance": [],
      "authorship_tag": "ABX9TyOBwhUNMOxDku9gzH08Ur7p",
      "include_colab_link": true
    },
    "kernelspec": {
      "name": "python3",
      "display_name": "Python 3"
    },
    "language_info": {
      "name": "python"
    }
  },
  "cells": [
    {
      "cell_type": "markdown",
      "metadata": {
        "id": "view-in-github",
        "colab_type": "text"
      },
      "source": [
        "<a href=\"https://colab.research.google.com/github/Draksahil/Crop-Yield-Prediction/blob/main/ML_Based_Crop_Recommendation.ipynb\" target=\"_parent\"><img src=\"https://colab.research.google.com/assets/colab-badge.svg\" alt=\"Open In Colab\"/></a>"
      ]
    },
    {
      "cell_type": "code",
      "execution_count": 19,
      "metadata": {
        "id": "K5Vjf_Lg3Nm8"
      },
      "outputs": [],
      "source": [
        "# Data Science Libraries\n",
        "import pandas as pd\n",
        "import numpy as np\n",
        "\n",
        "# Machine Learning Libraries\n",
        "from sklearn.model_selection import train_test_split\n",
        "from sklearn.preprocessing import LabelEncoder, StandardScaler\n",
        "from sklearn.metrics import mean_squared_error, r2_score, accuracy_score, classification_report\n",
        "\n",
        "# ML Algorithms\n",
        "from sklearn.linear_model import LinearRegression\n",
        "from sklearn.tree import DecisionTreeClassifier\n",
        "from sklearn.ensemble import RandomForestClassifier\n",
        "from xgboost import XGBClassifier\n",
        "\n",
        "# For warnings\n",
        "import warnings\n",
        "warnings.filterwarnings('ignore')\n",
        "\n"
      ]
    },
    {
      "cell_type": "code",
      "source": [
        "# Load dataset from CSV file\n",
        "data = pd.read_csv(\"/content/Crop_recommendation (1).csv\")\n",
        "\n",
        "# Quick overview\n",
        "print(\"First 5 records:\")\n",
        "print(data.head())\n",
        "\n",
        "print(\"\\nData Information:\")\n",
        "print(data.info())\n",
        "\n",
        "print(\"\\nCheck missing values:\")\n",
        "print(data.isnull().sum())\n"
      ],
      "metadata": {
        "colab": {
          "base_uri": "https://localhost:8080/"
        },
        "id": "KhOZUl3J2vSV",
        "outputId": "6c06c3a8-92db-450f-a3d3-44b9abe0a159"
      },
      "execution_count": 21,
      "outputs": [
        {
          "output_type": "stream",
          "name": "stdout",
          "text": [
            "First 5 records:\n",
            "    N   P   K  temperature   humidity        ph    rainfall label\n",
            "0  90  42  43    20.879744  82.002744  6.502985  202.935536  rice\n",
            "1  85  58  41    21.770462  80.319644  7.038096  226.655537  rice\n",
            "2  60  55  44    23.004459  82.320763  7.840207  263.964248  rice\n",
            "3  74  35  40    26.491096  80.158363  6.980401  242.864034  rice\n",
            "4  78  42  42    20.130175  81.604873  7.628473  262.717340  rice\n",
            "\n",
            "Data Information:\n",
            "<class 'pandas.core.frame.DataFrame'>\n",
            "RangeIndex: 2200 entries, 0 to 2199\n",
            "Data columns (total 8 columns):\n",
            " #   Column       Non-Null Count  Dtype  \n",
            "---  ------       --------------  -----  \n",
            " 0   N            2200 non-null   int64  \n",
            " 1   P            2200 non-null   int64  \n",
            " 2   K            2200 non-null   int64  \n",
            " 3   temperature  2200 non-null   float64\n",
            " 4   humidity     2200 non-null   float64\n",
            " 5   ph           2200 non-null   float64\n",
            " 6   rainfall     2200 non-null   float64\n",
            " 7   label        2200 non-null   object \n",
            "dtypes: float64(4), int64(3), object(1)\n",
            "memory usage: 137.6+ KB\n",
            "None\n",
            "\n",
            "Check missing values:\n",
            "N              0\n",
            "P              0\n",
            "K              0\n",
            "temperature    0\n",
            "humidity       0\n",
            "ph             0\n",
            "rainfall       0\n",
            "label          0\n",
            "dtype: int64\n"
          ]
        }
      ]
    },
    {
      "cell_type": "code",
      "source": [
        "# Encoding the categorical target (label)\n",
        "le = LabelEncoder()\n",
        "data['label_encoded'] = le.fit_transform(data['label'])\n",
        "\n",
        "# Separate features and target\n",
        "X = data.drop(['label', 'label_encoded'], axis=1)\n",
        "y = data['label_encoded']\n",
        "\n",
        "# Feature scaling (Standardization)\n",
        "scaler = StandardScaler()\n",
        "X_scaled = scaler.fit_transform(X)\n",
        "\n"
      ],
      "metadata": {
        "id": "MyzMw09c3c4Y"
      },
      "execution_count": 22,
      "outputs": []
    },
    {
      "cell_type": "code",
      "source": [
        "# 70% training, 30% testing split, reproducible with random_state\n",
        "X_train, X_test, y_train, y_test = train_test_split(\n",
        "    X_scaled, y, test_size=0.3, random_state=42\n",
        ")\n",
        "print(\"Train shape:\", X_train.shape)\n",
        "print(\"Test shape:\", X_test.shape)\n"
      ],
      "metadata": {
        "colab": {
          "base_uri": "https://localhost:8080/"
        },
        "id": "-KUho4x84ary",
        "outputId": "ed8b9498-b6eb-46f7-87a4-8f3d1681a419"
      },
      "execution_count": 23,
      "outputs": [
        {
          "output_type": "stream",
          "name": "stdout",
          "text": [
            "Train shape: (1540, 7)\n",
            "Test shape: (660, 7)\n"
          ]
        }
      ]
    },
    {
      "cell_type": "code",
      "source": [
        "# Linear Regression Model\n",
        "lr = LinearRegression()\n",
        "lr.fit(X_train, y_train)\n",
        "y_pred_lr = lr.predict(X_test)\n",
        "\n",
        "print(\"\\n--- Linear Regression Evaluation ---\")\n",
        "print(\"MSE:\", mean_squared_error(y_test, y_pred_lr))\n",
        "print(\"R2 score:\", r2_score(y_test, y_pred_lr))\n"
      ],
      "metadata": {
        "colab": {
          "base_uri": "https://localhost:8080/"
        },
        "id": "yJkp80RI7Qyu",
        "outputId": "349d4149-42db-46eb-cf94-9d156c0f06e9"
      },
      "execution_count": 24,
      "outputs": [
        {
          "output_type": "stream",
          "name": "stdout",
          "text": [
            "\n",
            "--- Linear Regression Evaluation ---\n",
            "MSE: 29.18616453106132\n",
            "R2 score: 0.27821243497931314\n"
          ]
        }
      ]
    },
    {
      "cell_type": "code",
      "source": [
        "dt = DecisionTreeClassifier(random_state=42)\n",
        "dt.fit(X_train, y_train)\n",
        "y_pred_dt = dt.predict(X_test)\n",
        "\n",
        "print(\"\\n--- Decision Tree Evaluation ---\")\n",
        "print(\"Accuracy:\", accuracy_score(y_test, y_pred_dt))\n",
        "print(\"Classification Report:\")\n",
        "print(classification_report(y_test, y_pred_dt, target_names=le.classes_))\n"
      ],
      "metadata": {
        "colab": {
          "base_uri": "https://localhost:8080/"
        },
        "id": "yQxEUq4O7VVq",
        "outputId": "a36bf95a-3f6b-4ec6-9298-0d5553fca3cc"
      },
      "execution_count": 25,
      "outputs": [
        {
          "output_type": "stream",
          "name": "stdout",
          "text": [
            "\n",
            "--- Decision Tree Evaluation ---\n",
            "Accuracy: 0.9863636363636363\n",
            "Classification Report:\n",
            "              precision    recall  f1-score   support\n",
            "\n",
            "       apple       1.00      1.00      1.00        34\n",
            "      banana       1.00      1.00      1.00        26\n",
            "   blackgram       0.96      1.00      0.98        26\n",
            "    chickpea       1.00      1.00      1.00        34\n",
            "     coconut       1.00      1.00      1.00        33\n",
            "      coffee       1.00      1.00      1.00        30\n",
            "      cotton       1.00      1.00      1.00        28\n",
            "      grapes       1.00      1.00      1.00        23\n",
            "        jute       0.86      0.94      0.90        34\n",
            " kidneybeans       1.00      1.00      1.00        36\n",
            "      lentil       0.96      1.00      0.98        22\n",
            "       maize       1.00      1.00      1.00        26\n",
            "       mango       1.00      1.00      1.00        32\n",
            "   mothbeans       1.00      0.94      0.97        34\n",
            "    mungbean       1.00      1.00      1.00        30\n",
            "   muskmelon       1.00      1.00      1.00        24\n",
            "      orange       1.00      1.00      1.00        25\n",
            "      papaya       1.00      1.00      1.00        37\n",
            "  pigeonpeas       1.00      1.00      1.00        37\n",
            " pomegranate       1.00      1.00      1.00        38\n",
            "        rice       0.92      0.82      0.87        28\n",
            "  watermelon       1.00      1.00      1.00        23\n",
            "\n",
            "    accuracy                           0.99       660\n",
            "   macro avg       0.99      0.99      0.99       660\n",
            "weighted avg       0.99      0.99      0.99       660\n",
            "\n"
          ]
        }
      ]
    },
    {
      "cell_type": "code",
      "source": [
        "rf = RandomForestClassifier(n_estimators=100, random_state=42)\n",
        "rf.fit(X_train, y_train)\n",
        "y_pred_rf = rf.predict(X_test)\n",
        "\n",
        "print(\"\\n--- Random Forest Evaluation ---\")\n",
        "print(\"Accuracy:\", accuracy_score(y_test, y_pred_rf))\n",
        "print(\"Classification Report:\")\n",
        "print(classification_report(y_test, y_pred_rf, target_names=le.classes_))\n"
      ],
      "metadata": {
        "colab": {
          "base_uri": "https://localhost:8080/"
        },
        "id": "H9_bpGkX7ZsE",
        "outputId": "80eb8849-6fc4-44a7-c626-5e94005f6ef8"
      },
      "execution_count": 26,
      "outputs": [
        {
          "output_type": "stream",
          "name": "stdout",
          "text": [
            "\n",
            "--- Random Forest Evaluation ---\n",
            "Accuracy: 0.990909090909091\n",
            "Classification Report:\n",
            "              precision    recall  f1-score   support\n",
            "\n",
            "       apple       1.00      1.00      1.00        34\n",
            "      banana       1.00      1.00      1.00        26\n",
            "   blackgram       1.00      1.00      1.00        26\n",
            "    chickpea       1.00      1.00      1.00        34\n",
            "     coconut       1.00      1.00      1.00        33\n",
            "      coffee       1.00      1.00      1.00        30\n",
            "      cotton       1.00      1.00      1.00        28\n",
            "      grapes       1.00      1.00      1.00        23\n",
            "        jute       0.85      1.00      0.92        34\n",
            " kidneybeans       1.00      1.00      1.00        36\n",
            "      lentil       1.00      1.00      1.00        22\n",
            "       maize       1.00      1.00      1.00        26\n",
            "       mango       1.00      1.00      1.00        32\n",
            "   mothbeans       1.00      1.00      1.00        34\n",
            "    mungbean       1.00      1.00      1.00        30\n",
            "   muskmelon       1.00      1.00      1.00        24\n",
            "      orange       1.00      1.00      1.00        25\n",
            "      papaya       1.00      1.00      1.00        37\n",
            "  pigeonpeas       1.00      1.00      1.00        37\n",
            " pomegranate       1.00      1.00      1.00        38\n",
            "        rice       1.00      0.79      0.88        28\n",
            "  watermelon       1.00      1.00      1.00        23\n",
            "\n",
            "    accuracy                           0.99       660\n",
            "   macro avg       0.99      0.99      0.99       660\n",
            "weighted avg       0.99      0.99      0.99       660\n",
            "\n"
          ]
        }
      ]
    },
    {
      "cell_type": "code",
      "source": [
        "# Install xgboost if needed: !pip install xgboost\n",
        "xgb = XGBClassifier(use_label_encoder=False, eval_metric='mlogloss', random_state=42)\n",
        "xgb.fit(X_train, y_train)\n",
        "y_pred_xgb = xgb.predict(X_test)\n",
        "\n",
        "print(\"\\n--- XGBoost Evaluation ---\")\n",
        "print(\"Accuracy:\", accuracy_score(y_test, y_pred_xgb))\n",
        "print(\"Classification Report:\")\n",
        "print(classification_report(y_test, y_pred_xgb, target_names=le.classes_))\n"
      ],
      "metadata": {
        "colab": {
          "base_uri": "https://localhost:8080/"
        },
        "id": "IhosFxA97epk",
        "outputId": "7c08c208-87a1-4d15-ee5b-db931b35dea0"
      },
      "execution_count": 27,
      "outputs": [
        {
          "output_type": "stream",
          "name": "stdout",
          "text": [
            "\n",
            "--- XGBoost Evaluation ---\n",
            "Accuracy: 0.9818181818181818\n",
            "Classification Report:\n",
            "              precision    recall  f1-score   support\n",
            "\n",
            "       apple       1.00      1.00      1.00        34\n",
            "      banana       0.96      1.00      0.98        26\n",
            "   blackgram       0.93      1.00      0.96        26\n",
            "    chickpea       1.00      1.00      1.00        34\n",
            "     coconut       1.00      1.00      1.00        33\n",
            "      coffee       1.00      1.00      1.00        30\n",
            "      cotton       0.97      1.00      0.98        28\n",
            "      grapes       1.00      1.00      1.00        23\n",
            "        jute       0.85      1.00      0.92        34\n",
            " kidneybeans       1.00      1.00      1.00        36\n",
            "      lentil       1.00      0.95      0.98        22\n",
            "       maize       1.00      0.96      0.98        26\n",
            "       mango       0.97      1.00      0.98        32\n",
            "   mothbeans       0.97      1.00      0.99        34\n",
            "    mungbean       1.00      1.00      1.00        30\n",
            "   muskmelon       1.00      1.00      1.00        24\n",
            "      orange       1.00      1.00      1.00        25\n",
            "      papaya       1.00      1.00      1.00        37\n",
            "  pigeonpeas       1.00      0.89      0.94        37\n",
            " pomegranate       1.00      1.00      1.00        38\n",
            "        rice       1.00      0.79      0.88        28\n",
            "  watermelon       1.00      1.00      1.00        23\n",
            "\n",
            "    accuracy                           0.98       660\n",
            "   macro avg       0.98      0.98      0.98       660\n",
            "weighted avg       0.98      0.98      0.98       660\n",
            "\n"
          ]
        }
      ]
    },
    {
      "cell_type": "code",
      "source": [],
      "metadata": {
        "id": "e2uubAgs7jOr"
      },
      "execution_count": null,
      "outputs": []
    }
  ]
}